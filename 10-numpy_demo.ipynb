{
 "cells": [
  {
   "cell_type": "markdown",
   "id": "34298070",
   "metadata": {},
   "source": [
    "# Introduction to Numpy"
   ]
  },
  {
   "cell_type": "code",
   "execution_count": 1,
   "id": "22f44bde",
   "metadata": {},
   "outputs": [],
   "source": [
    "import numpy as np"
   ]
  },
  {
   "cell_type": "markdown",
   "id": "79c62f17",
   "metadata": {},
   "source": [
    "1. Creating an array"
   ]
  },
  {
   "cell_type": "code",
   "execution_count": 2,
   "id": "678991da",
   "metadata": {},
   "outputs": [],
   "source": [
    "arr = np.array([1,2,34,5,6,7])"
   ]
  },
  {
   "cell_type": "code",
   "execution_count": 3,
   "id": "f638a7ae",
   "metadata": {},
   "outputs": [
    {
     "name": "stdout",
     "output_type": "stream",
     "text": [
      "1\n"
     ]
    }
   ],
   "source": [
    "print(arr.ndim)"
   ]
  },
  {
   "cell_type": "code",
   "execution_count": 4,
   "id": "25910286",
   "metadata": {},
   "outputs": [
    {
     "name": "stdout",
     "output_type": "stream",
     "text": [
      "0\n"
     ]
    }
   ],
   "source": [
    "arr0 = np.array(89)\n",
    "print(arr0.ndim)"
   ]
  },
  {
   "cell_type": "code",
   "execution_count": 7,
   "id": "60f09afd",
   "metadata": {},
   "outputs": [
    {
     "name": "stdout",
     "output_type": "stream",
     "text": [
      "[[1 2 3 4]\n",
      " [6 7 8 9]]\n",
      "2\n"
     ]
    }
   ],
   "source": [
    "arr2 = np.array([[1,2,3,4], [6,7,8,9]])\n",
    "print(arr2)\n",
    "print(arr2.ndim)"
   ]
  },
  {
   "cell_type": "code",
   "execution_count": 8,
   "id": "76a4a886",
   "metadata": {},
   "outputs": [
    {
     "name": "stdout",
     "output_type": "stream",
     "text": [
      "[[[[[1 2 3 4 5 6 7 8 9]]]]]\n",
      "5\n"
     ]
    }
   ],
   "source": [
    "arr3 = np.array([1,2,3,4,5,6,7,8,9], ndmin=5)\n",
    "print(arr3)\n",
    "print(arr3.ndim)"
   ]
  },
  {
   "cell_type": "markdown",
   "id": "28efa155",
   "metadata": {},
   "source": [
    "2. Accessing the elements of the array"
   ]
  },
  {
   "cell_type": "code",
   "execution_count": 14,
   "id": "94d368dc",
   "metadata": {},
   "outputs": [
    {
     "name": "stdout",
     "output_type": "stream",
     "text": [
      "4\n"
     ]
    }
   ],
   "source": [
    "print(arr3[0][0][0][0][3])"
   ]
  },
  {
   "cell_type": "code",
   "execution_count": 15,
   "id": "ef8bddd6",
   "metadata": {},
   "outputs": [
    {
     "name": "stdout",
     "output_type": "stream",
     "text": [
      "[[1 2 3 4]\n",
      " [6 7 8 9]]\n"
     ]
    }
   ],
   "source": [
    "print(arr2)"
   ]
  },
  {
   "cell_type": "code",
   "execution_count": 16,
   "id": "fdbc3a24",
   "metadata": {},
   "outputs": [
    {
     "name": "stdout",
     "output_type": "stream",
     "text": [
      "8\n"
     ]
    }
   ],
   "source": [
    "print(arr2[1][2])"
   ]
  },
  {
   "cell_type": "markdown",
   "id": "33d86ad9",
   "metadata": {},
   "source": [
    "3. Slicing in array Elements"
   ]
  },
  {
   "cell_type": "code",
   "execution_count": 17,
   "id": "c17719df",
   "metadata": {},
   "outputs": [
    {
     "name": "stdout",
     "output_type": "stream",
     "text": [
      "[7 8 9]\n"
     ]
    }
   ],
   "source": [
    "print(arr2[1][1:])"
   ]
  },
  {
   "cell_type": "markdown",
   "id": "2e64faa6",
   "metadata": {},
   "source": [
    "4. Converting data types"
   ]
  },
  {
   "cell_type": "code",
   "execution_count": 18,
   "id": "11aa4f2d",
   "metadata": {},
   "outputs": [
    {
     "name": "stdout",
     "output_type": "stream",
     "text": [
      "int64\n"
     ]
    }
   ],
   "source": [
    "print(arr3.dtype)"
   ]
  },
  {
   "cell_type": "code",
   "execution_count": 19,
   "id": "dd070276",
   "metadata": {},
   "outputs": [
    {
     "name": "stdout",
     "output_type": "stream",
     "text": [
      "[[b'1' b'2' b'3' b'4']\n",
      " [b'6' b'7' b'8' b'9']]\n"
     ]
    }
   ],
   "source": [
    "arr4 = np.array(arr2, dtype='S')\n",
    "print(arr4)"
   ]
  },
  {
   "cell_type": "code",
   "execution_count": 20,
   "id": "91da32af",
   "metadata": {},
   "outputs": [
    {
     "name": "stdout",
     "output_type": "stream",
     "text": [
      "[[1. 2. 3. 4.]\n",
      " [6. 7. 8. 9.]]\n"
     ]
    }
   ],
   "source": [
    "arr5 = arr2.astype(float)\n",
    "print(arr5)"
   ]
  },
  {
   "cell_type": "code",
   "execution_count": 21,
   "id": "7f60d864",
   "metadata": {},
   "outputs": [
    {
     "name": "stdout",
     "output_type": "stream",
     "text": [
      "[[1. 2. 3. 4.]\n",
      " [6. 7. 8. 9.]]\n"
     ]
    }
   ],
   "source": [
    "arr6 = arr5.copy()\n",
    "print(arr6)"
   ]
  },
  {
   "cell_type": "code",
   "execution_count": 22,
   "id": "94e94bc9",
   "metadata": {},
   "outputs": [],
   "source": [
    "arr7 = arr5.view()\n"
   ]
  },
  {
   "cell_type": "code",
   "execution_count": 24,
   "id": "da7b06ca",
   "metadata": {},
   "outputs": [
    {
     "name": "stdout",
     "output_type": "stream",
     "text": [
      "Array arr6:  [[1. 2. 3. 4.]\n",
      " [6. 7. 8. 9.]]\n",
      "Size of arr6:  8\n",
      "Shape of arr6:  (2, 4)\n",
      "Length of arr6:  2\n",
      "Dimension of arr6:  2\n"
     ]
    }
   ],
   "source": [
    "print(\"Array arr6: \", arr6)\n",
    "print('Size of arr6: ',arr6.size)\n",
    "print('Shape of arr6: ',arr6.shape)\n",
    "print('Length of arr6: ', len(arr6))\n",
    "print('Dimension of arr6: ', arr6.ndim)"
   ]
  },
  {
   "cell_type": "code",
   "execution_count": 25,
   "id": "c474a957",
   "metadata": {},
   "outputs": [
    {
     "name": "stdout",
     "output_type": "stream",
     "text": [
      "[[ 1  2  3  4]\n",
      " [ 5  6  7  8]\n",
      " [ 9 10 11 12]]\n"
     ]
    }
   ],
   "source": [
    "arr8 = np.array([1,2,3,4,5,6,7,8,9,10,11,12])\n",
    "arr9 = arr8.reshape(3,4)\n",
    "print(arr9)"
   ]
  },
  {
   "cell_type": "code",
   "execution_count": 30,
   "id": "8fffc4bc",
   "metadata": {},
   "outputs": [
    {
     "name": "stdout",
     "output_type": "stream",
     "text": [
      "[1 2 3 4 5 5 6 7 8]\n"
     ]
    }
   ],
   "source": [
    "arr1 = np.array([1,2,3,4,5])\n",
    "arr2 = np.array([5,6,7,8])\n",
    "arr11 = np.concatenate((arr1,arr2))\n",
    "print(arr11)"
   ]
  },
  {
   "cell_type": "code",
   "execution_count": 31,
   "id": "a6069ba9",
   "metadata": {},
   "outputs": [
    {
     "name": "stdout",
     "output_type": "stream",
     "text": [
      "[[1 2 3 4 5]\n",
      " [5 6 7 8 9]]\n"
     ]
    }
   ],
   "source": [
    "arr1 = np.array([1,2,3,4,5])\n",
    "arr2 = np.array([5,6,7,8,9])\n",
    "arr11 = np.stack((arr1,arr2))\n",
    "print(arr11)"
   ]
  },
  {
   "cell_type": "code",
   "execution_count": 32,
   "id": "e0103ebf",
   "metadata": {},
   "outputs": [
    {
     "name": "stdout",
     "output_type": "stream",
     "text": [
      "[array([1, 2, 3]), array([4, 5])]\n"
     ]
    }
   ],
   "source": [
    "arr1 = np.array([1,2,3,4,5])\n",
    "arr2 = np.array_split(arr1,2)\n",
    "print(arr2)"
   ]
  },
  {
   "cell_type": "code",
   "execution_count": 33,
   "id": "8d22cd4a",
   "metadata": {},
   "outputs": [
    {
     "data": {
      "text/plain": [
       "np.int64(3)"
      ]
     },
     "execution_count": 33,
     "metadata": {},
     "output_type": "execute_result"
    }
   ],
   "source": [
    "np.searchsorted(arr1, 4)"
   ]
  },
  {
   "cell_type": "code",
   "execution_count": null,
   "id": "7b04473e",
   "metadata": {},
   "outputs": [
    {
     "data": {
      "text/plain": [
       "(array([1, 3]),)"
      ]
     },
     "execution_count": 34,
     "metadata": {},
     "output_type": "execute_result"
    }
   ],
   "source": [
    "# get the values in even index position\n",
    "np.where(arr1%2==0)"
   ]
  },
  {
   "cell_type": "code",
   "execution_count": null,
   "id": "0a7f01ae",
   "metadata": {},
   "outputs": [
    {
     "name": "stdout",
     "output_type": "stream",
     "text": [
      "[2 4]\n"
     ]
    }
   ],
   "source": [
    "arr16 = arr1[arr1%2==0] # values which are even\n",
    "print(arr16)"
   ]
  }
 ],
 "metadata": {
  "kernelspec": {
   "display_name": "Python 3",
   "language": "python",
   "name": "python3"
  },
  "language_info": {
   "codemirror_mode": {
    "name": "ipython",
    "version": 3
   },
   "file_extension": ".py",
   "mimetype": "text/x-python",
   "name": "python",
   "nbconvert_exporter": "python",
   "pygments_lexer": "ipython3",
   "version": "3.13.3"
  }
 },
 "nbformat": 4,
 "nbformat_minor": 5
}
